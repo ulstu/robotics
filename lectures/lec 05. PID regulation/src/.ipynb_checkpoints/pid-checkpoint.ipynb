{
 "cells": [
  {
   "cell_type": "code",
   "execution_count": 43,
   "metadata": {},
   "outputs": [
    {
     "data": {
      "application/vnd.jupyter.widget-view+json": {
       "model_id": "4f2d3337b18840ca8e65809727472d37",
       "version_major": 2,
       "version_minor": 0
      },
      "text/plain": [
       "interactive(children=(FloatSlider(value=5.0, description='coef_P', max=50.0, step=1.0), FloatSlider(value=120.…"
      ]
     },
     "metadata": {},
     "output_type": "display_data"
    },
    {
     "name": "stdout",
     "output_type": "stream",
     "text": [
      "PID Simulator: Adjust Kc, tauI, and tauD to achieve lowest Integral Abs Error\n"
     ]
    }
   ],
   "source": [
    "import numpy as np\n",
    "%matplotlib inline\n",
    "import matplotlib.pyplot as plt\n",
    "from scipy.integrate import odeint\n",
    "import ipywidgets as wg\n",
    "from IPython.display import display\n",
    "\n",
    "time_ticks = 601  # time points to plot\n",
    "time_final = 600.0  # final time\n",
    "\n",
    "def process_heater(y, t, u):\n",
    "    dydt = (23.0 - y + 0.9 * u) / 175\n",
    "    return dydt\n",
    "\n",
    "\n",
    "def pidPlot(coef_P, coef_I, coef_D):\n",
    "    time_vector = np.linspace(0, time_final, time_ticks)  # create time vector\n",
    "    term_proportional = np.zeros(time_ticks)  # initialize proportional term\n",
    "    term_integral = np.zeros(time_ticks)  # initialize integral term\n",
    "    term_differential = np.zeros(time_ticks)  # initialize derivative term\n",
    "\n",
    "    error = np.zeros(time_ticks)  # initialize error\n",
    "    controller_output = np.zeros(time_ticks)  # initialize controller output\n",
    "    process_value = np.ones(time_ticks) * 23.0  # initialize process variable\n",
    "\n",
    "    set_point = np.ones(time_ticks) * 23.0  # initialize setpoint\n",
    "    set_point[10:300] = 50.0  # step up\n",
    "    set_point[300:601] = 40.0  # step down\n",
    "\n",
    "    y0 = 23.0  # initial condition\n",
    "    iae = 0.0  # accumulated error\n",
    "\n",
    "    # loop through all time steps\n",
    "    for i in range(1, time_ticks):\n",
    "        # simulate process for one time step\n",
    "        time_interval = [time_vector[i - 1], time_vector[i]]  # time interval\n",
    "        y = odeint(process_heater, y0, time_interval, args=(controller_output[max(0, i - 15)],))\n",
    "        y0 = y[1]  # get new initial condition\n",
    "        iae += np.abs(set_point[i] - y0[0])\n",
    "        process_value[i] = y0\n",
    "\n",
    "        error[i] = set_point[i] - process_value[i]  # calculate error\n",
    "        dt = time_vector[i] - time_vector[i - 1]  # calculate time step\n",
    "\n",
    "        term_proportional[i] = coef_P * error[i]  # calculate proportional term\n",
    "        term_integral[i] = term_integral[i - 1] + (coef_P / coef_I) * error[i] * dt  # calculate integral term\n",
    "        term_differential[i] = -coef_P * coef_D * (\n",
    "                    process_value[i] - process_value[i - 1]) / dt  # calculate derivative term\n",
    "\n",
    "        controller_value = term_proportional[i] + term_integral[i] + term_differential[i]  # calculate new controller output\n",
    "        controller_output[i] = max(min(100.0, controller_value), 0.0)\n",
    "\n",
    "        if controller_value <= 0 or controller_value >= 100:\n",
    "            term_integral[i] = term_integral[i - 1]  # reset integral\n",
    "\n",
    "    # plot PID response\n",
    "    # plot 1\n",
    "    plt.figure(1, figsize=(15, 7))\n",
    "    plt.subplot(2, 2, 1)\n",
    "    plt.plot(time_vector, set_point, 'k-', linewidth=2, label='Setpoint (SP)')\n",
    "    plt.plot(time_vector, process_value, 'r:', linewidth=2, label='Temperature (PV)')\n",
    "    plt.ylabel(r'T $(^oC)$')\n",
    "    plt.text(100, 30, 'Integral Abs Error: ' + str(np.round(iae, 2)))\n",
    "    plt.text(400, 30, r'$K_c$: ' + str(np.round(coef_P, 0)))\n",
    "    plt.text(400, 27, r'$\\tau_I$: ' + str(np.round(coef_I, 0)) + ' sec')\n",
    "    plt.text(400, 24, r'$\\tau_D$: ' + str(np.round(coef_D, 0)) + ' sec')\n",
    "    plt.legend(loc='best')\n",
    "\n",
    "    # plot 2\n",
    "    plt.subplot(2, 2, 2)\n",
    "    plt.plot(time_vector, term_proportional, 'g.-', linewidth=2, label=r'Proportional = $K_c \\; e(t)$')\n",
    "    plt.plot(time_vector, term_integral, 'b-', linewidth=2, label=r'Integral = ' + \\\n",
    "                                                                  r'$\\frac{K_c}{\\tau_I} \\int_{i=0}^{n_t} e(t) \\; dt $')\n",
    "    plt.plot(time_vector, term_differential, 'r--', linewidth=2, label=r'Derivative = ' + \\\n",
    "                                                                       r'$-K_c \\tau_D \\frac{d(PV)}{dt}$')\n",
    "    plt.legend(loc='best')\n",
    "\n",
    "    # plot 3\n",
    "    plt.subplot(2, 2, 3)\n",
    "    plt.plot(time_vector, error, 'm--', linewidth=2, label='Error (e=SP-PV)')\n",
    "    plt.ylabel(r'$\\Delta T$ $(^oC)$')\n",
    "    plt.legend(loc='best')\n",
    "\n",
    "    # plot 4\n",
    "    plt.subplot(2, 2, 4)\n",
    "    plt.plot(time_vector, controller_output, 'b--', linewidth=2, label='Heater (OP)')\n",
    "    plt.legend(loc='best')\n",
    "    plt.xlabel('time')\n",
    "\n",
    "\n",
    "Kc_slide = wg.FloatSlider(value=5.0, min=0.0, max=50.0, step=1.0)\n",
    "tauI_slide = wg.FloatSlider(value=120.0, min=20.0, max=180.0, step=5.0)\n",
    "tauD_slide = wg.FloatSlider(value=0.0, min=0.0, max=20.0, step=1.0)\n",
    "wg.interact(pidPlot, coef_P=Kc_slide, coef_I=tauI_slide, coef_D=tauD_slide)\n",
    "print('PID Simulator: Adjust Kc, tauI, and tauD to achieve lowest Integral Abs Error')"
   ]
  },
  {
   "cell_type": "code",
   "execution_count": 36,
   "metadata": {},
   "outputs": [
    {
     "data": {
      "image/png": "[encoded data removed]",
      "text/plain": [
       "<Figure size 432x288 with 1 Axes>"
      ]
     },
     "metadata": {
      "needs_background": "light"
     },
     "output_type": "display_data"
    }
   ],
   "source": [
    "import numpy as np\n",
    "%matplotlib inline\n",
    "import matplotlib.pyplot as plt\n",
    "from scipy.integrate import odeint\n",
    "\n",
    "def f(y):\n",
    "    dydt = np.log(y)\n",
    "    return dydt\n",
    "\n",
    "x = np.linspace(1, 20, 1000)\n",
    "y = f(x)\n",
    "\n",
    "plt.plot(x, y)\n",
    "plt.show()"
   ]
  }
 ],
 "metadata": {
  "kernelspec": {
   "display_name": "Python 3",
   "language": "python",
   "name": "python3"
  },
  "language_info": {
   "codemirror_mode": {
    "name": "ipython",
    "version": 3
   },
   "file_extension": ".py",
   "mimetype": "text/x-python",
   "name": "python",
   "nbconvert_exporter": "python",
   "pygments_lexer": "ipython3",
   "version": "3.8.8"
  }
 },
 "nbformat": 4,
 "nbformat_minor": 4
}
